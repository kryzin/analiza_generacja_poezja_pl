{
 "cells": [
  {
   "cell_type": "code",
   "execution_count": 5,
   "id": "852c264d",
   "metadata": {},
   "outputs": [
    {
     "name": "stdout",
     "output_type": "stream",
     "text": [
      "\n",
      "Brakujące wartości w kolumnach:\n",
      "Column 1         0\n",
      "author           0\n",
      "title            0\n",
      "content          0\n",
      "type             0\n",
      "motifs           0\n",
      "keywords         0\n",
      "rhyme            0\n",
      "motifs_list      0\n",
      "keywords_list    0\n",
      "merged_motifs    0\n",
      "word_count       0\n",
      "motifs_count     0\n",
      "content_lemma    0\n",
      "rhyme_input      0\n",
      "dtype: int64\n",
      "\n",
      "Informacje o danych:\n",
      "<class 'pandas.core.frame.DataFrame'>\n",
      "RangeIndex: 4482 entries, 0 to 4481\n",
      "Data columns (total 15 columns):\n",
      " #   Column         Non-Null Count  Dtype \n",
      "---  ------         --------------  ----- \n",
      " 0   Column 1       4482 non-null   int64 \n",
      " 1   author         4482 non-null   object\n",
      " 2   title          4482 non-null   object\n",
      " 3   content        4482 non-null   object\n",
      " 4   type           4482 non-null   object\n",
      " 5   motifs         4482 non-null   object\n",
      " 6   keywords       4482 non-null   object\n",
      " 7   rhyme          4482 non-null   object\n",
      " 8   motifs_list    4482 non-null   object\n",
      " 9   keywords_list  4482 non-null   object\n",
      " 10  merged_motifs  4482 non-null   object\n",
      " 11  word_count     4482 non-null   int64 \n",
      " 12  motifs_count   4482 non-null   int64 \n",
      " 13  content_lemma  4482 non-null   object\n",
      " 14  rhyme_input    4482 non-null   object\n",
      "dtypes: int64(3), object(12)\n",
      "memory usage: 525.4+ KB\n",
      "None\n"
     ]
    }
   ],
   "source": [
    "import pandas as pd\n",
    "\n",
    "data = pd.read_csv('./analysis/data/wiersze_rhyme_col2.csv')\n",
    "\n",
    "print(\"\\nBrakujące wartości w kolumnach:\")\n",
    "print(data.isnull().sum())\n",
    "print(\"\\nInformacje o danych:\")\n",
    "print(data.info())"
   ]
  },
  {
   "cell_type": "code",
   "execution_count": 6,
   "id": "abb81b10",
   "metadata": {},
   "outputs": [
    {
     "name": "stdout",
     "output_type": "stream",
     "text": [
      "Empty DataFrame\n",
      "Columns: [content, rhyme]\n",
      "Index: []\n"
     ]
    }
   ],
   "source": [
    "missing_rhyme = data[data[\"rhyme\"].isna()]\n",
    "print(missing_rhyme[[\"content\", \"rhyme\"]])"
   ]
  }
 ],
 "metadata": {
  "kernelspec": {
   "display_name": "myenv",
   "language": "python",
   "name": "python3"
  },
  "language_info": {
   "codemirror_mode": {
    "name": "ipython",
    "version": 3
   },
   "file_extension": ".py",
   "mimetype": "text/x-python",
   "name": "python",
   "nbconvert_exporter": "python",
   "pygments_lexer": "ipython3",
   "version": "3.12.7"
  }
 },
 "nbformat": 4,
 "nbformat_minor": 5
}
